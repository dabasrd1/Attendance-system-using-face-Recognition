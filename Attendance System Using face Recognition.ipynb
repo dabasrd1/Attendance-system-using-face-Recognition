{
 "cells": [
  {
   "cell_type": "code",
   "execution_count": 5,
   "metadata": {},
   "outputs": [
    {
     "ename": "SyntaxError",
     "evalue": "invalid syntax (<ipython-input-5-5104060f49e6>, line 1)",
     "output_type": "error",
     "traceback": [
      "\u001b[1;36m  File \u001b[1;32m\"<ipython-input-5-5104060f49e6>\"\u001b[1;36m, line \u001b[1;32m1\u001b[0m\n\u001b[1;33m    conda install -c conda - forge face_recognition\u001b[0m\n\u001b[1;37m          ^\u001b[0m\n\u001b[1;31mSyntaxError\u001b[0m\u001b[1;31m:\u001b[0m invalid syntax\n"
     ]
    }
   ],
   "source": [
    "import cv2\n",
    "import face_recognition\n",
    " \n",
    "imgElon = face_recognition.load_image_file('ImagesBasic/Elon Musk.jpg')\n",
    "imgElon = cv2.cvtColor(imgElon,cv2.COLOR_BGR2RGB)\n",
    "imgTest = face_recognition.load_image_file('ImagesBasic/Bill gates.jpg')\n",
    "imgTest = cv2.cvtColor(imgTest,cv2.COLOR_BGR2RGB)\n",
    " \n",
    "faceLoc = face_recognition.face_locations(imgElon)&amp;#91;0]\n",
    "encodeElon = face_recognition.face_encodings(imgElon)&amp;#91;0]\n",
    "cv2.rectangle(imgElon,(faceLoc&amp;#91;3],faceLoc&amp;#91;0]),(faceLoc&amp;#91;1],faceLoc&amp;#91;2]),(255,0,255),2)\n",
    " \n",
    "faceLocTest = face_recognition.face_locations(imgTest)&amp;#91;0]\n",
    "encodeTest = face_recognition.face_encodings(imgTest)&amp;#91;0]\n",
    "cv2.rectangle(imgTest,(faceLocTest&amp;#91;3],faceLocTest&amp;#91;0]),(faceLocTest&amp;#91;1],faceLocTest&amp;#91;2]),(255,0,255),2)\n",
    " \n",
    "results = face_recognition.compare_faces(&amp;#91;encodeElon],encodeTest)\n",
    "faceDis = face_recognition.face_distance(&amp;#91;encodeElon],encodeTest)\n",
    "print(results,faceDis)\n",
    "cv2.putText(imgTest,f'{results} {round(faceDis&amp;#91;0],2)}',(50,50),cv2.FONT_HERSHEY_COMPLEX,1,(0,0,255),2)\n",
    " \n",
    "cv2.imshow('Elon Musk',imgElon)\n",
    "cv2.imshow('Elon Test',imgTest)\n",
    "cv2.waitKey(0)"
   ]
  },
  {
   "cell_type": "code",
   "execution_count": null,
   "metadata": {},
   "outputs": [],
   "source": [
    "import cv2\n",
    "import numpy as np\n",
    "import face_recognition\n",
    "import os\n",
    "from datetime import datetime\n",
    "# from PIL import ImageGrab\n",
    " \n",
    "path = 'ImagesAttendance'\n",
    "images = &amp;#91;]\n",
    "classNames = &amp;#91;]\n",
    "myList = os.listdir(path)\n",
    "print(myList)\n",
    "for cl in myList:\n",
    "curImg = cv2.imread(f'{path}/{cl}')\n",
    "images.append(curImg)\n",
    "classNames.append(os.path.splitext(cl)&amp;#91;0])\n",
    "print(classNames)\n",
    " \n",
    "def findEncodings(images):\n",
    "encodeList = &amp;#91;]\n",
    "for img in images:\n",
    "img = cv2.cvtColor(img, cv2.COLOR_BGR2RGB)\n",
    "encode = face_recognition.face_encodings(img)&amp;#91;0]\n",
    "encodeList.append(encode)\n",
    "return encodeList\n",
    " \n",
    "def markAttendance(name):\n",
    "with open('Attendance.csv','r+') as f:\n",
    "myDataList = f.readlines()\n",
    "nameList = &amp;#91;]\n",
    "for line in myDataList:\n",
    "entry = line.split(',')\n",
    "nameList.append(entry&amp;#91;0])\n",
    "if name not in nameList:\n",
    "now = datetime.now()\n",
    "dtString = now.strftime('%H:%M:%S')\n",
    "f.writelines(f'n{name},{dtString}')\n",
    " \n",
    "#### FOR CAPTURING SCREEN RATHER THAN WEBCAM\n",
    "# def captureScreen(bbox=(300,300,690+300,530+300)):\n",
    "#     capScr = np.array(ImageGrab.grab(bbox))\n",
    "#     capScr = cv2.cvtColor(capScr, cv2.COLOR_RGB2BGR)\n",
    "#     return capScr\n",
    " \n",
    "encodeListKnown = findEncodings(images)\n",
    "print('Encoding Complete')\n",
    " \n",
    "cap = cv2.VideoCapture(0)\n",
    " \n",
    "while True:\n",
    "success, img = cap.read()\n",
    "#img = captureScreen()\n",
    "imgS = cv2.resize(img,(0,0),None,0.25,0.25)\n",
    "imgS = cv2.cvtColor(imgS, cv2.COLOR_BGR2RGB)\n",
    " \n",
    "facesCurFrame = face_recognition.face_locations(imgS)\n",
    "encodesCurFrame = face_recognition.face_encodings(imgS,facesCurFrame)\n",
    " \n",
    "for encodeFace,faceLoc in zip(encodesCurFrame,facesCurFrame):\n",
    "matches = face_recognition.compare_faces(encodeListKnown,encodeFace)\n",
    "faceDis = face_recognition.face_distance(encodeListKnown,encodeFace)\n",
    "#print(faceDis)\n",
    "matchIndex = np.argmin(faceDis)\n",
    " \n",
    "if matches&amp;#91;matchIndex]:\n",
    "name = classNames&amp;#91;matchIndex].upper()\n",
    "#print(name)\n",
    "y1,x2,y2,x1 = faceLoc\n",
    "y1, x2, y2, x1 = y1*4,x2*4,y2*4,x1*4\n",
    "cv2.rectangle(img,(x1,y1),(x2,y2),(0,255,0),2)\n",
    "cv2.rectangle(img,(x1,y2-35),(x2,y2),(0,255,0),cv2.FILLED)\n",
    "cv2.putText(img,name,(x1+6,y2-6),cv2.FONT_HERSHEY_COMPLEX,1,(255,255,255),2)\n",
    "markAttendance(name)\n",
    " \n",
    "cv2.imshow('Webcam',img)\n",
    "cv2.waitKey(1)"
   ]
  },
  {
   "cell_type": "code",
   "execution_count": null,
   "metadata": {},
   "outputs": [],
   "source": [
    "if matches&amp;#91;matchIndex]:\n",
    "    name = classNames&amp;#91;matchIndex].upper()\n",
    "    #print(name)\n",
    "    y1,x2,y2,x1 = faceLoc\n",
    "    y1, x2, y2, x1 = y1*4,x2*4,y2*4,x1*4\n",
    "    cv2.rectangle(img,(x1,y1),(x2,y2),(0,255,0),2)\n",
    "    cv2.rectangle(img,(x1,y2-35),(x2,y2),(0,255,0),cv2.FILLED)\n",
    "    cv2.putText(img,name,(x1+6,y2-6),cv2.FONT_HERSHEY_COMPLEX,1,(255,255,255),2)\n",
    "    markAttendance(name)"
   ]
  },
  {
   "cell_type": "code",
   "execution_count": null,
   "metadata": {},
   "outputs": [],
   "source": [
    "if faceDis&amp;#91;matchIndex]&amp;lt; 0.50:\n",
    "    name = classNames&amp;#91;matchIndex].upper()\n",
    "    markAttendance(name)\n",
    "else: name = 'Unknown'\n",
    "#print(name)\n",
    "y1,x2,y2,x1 = faceLoc\n",
    "y1, x2, y2, x1 = y1*4,x2*4,y2*4,x1*4\n",
    "cv2.rectangle(img,(x1,y1),(x2,y2),(0,255,0),2)\n",
    "cv2.rectangle(img,(x1,y2-35),(x2,y2),(0,255,0),cv2.FILLED)\n",
    "cv2.putText(img,name,(x1+6,y2-6),cv2.FONT_HERSHEY_COMPLEX,1,(255,255,255),2)"
   ]
  },
  {
   "cell_type": "code",
   "execution_count": null,
   "metadata": {},
   "outputs": [],
   "source": []
  },
  {
   "cell_type": "code",
   "execution_count": null,
   "metadata": {},
   "outputs": [],
   "source": []
  },
  {
   "cell_type": "code",
   "execution_count": null,
   "metadata": {},
   "outputs": [],
   "source": []
  },
  {
   "cell_type": "code",
   "execution_count": null,
   "metadata": {},
   "outputs": [],
   "source": []
  },
  {
   "cell_type": "code",
   "execution_count": null,
   "metadata": {},
   "outputs": [],
   "source": []
  }
 ],
 "metadata": {
  "kernelspec": {
   "display_name": "Python 3",
   "language": "python",
   "name": "python3"
  },
  "language_info": {
   "codemirror_mode": {
    "name": "ipython",
    "version": 3
   },
   "file_extension": ".py",
   "mimetype": "text/x-python",
   "name": "python",
   "nbconvert_exporter": "python",
   "pygments_lexer": "ipython3",
   "version": "3.8.5"
  }
 },
 "nbformat": 4,
 "nbformat_minor": 4
}
